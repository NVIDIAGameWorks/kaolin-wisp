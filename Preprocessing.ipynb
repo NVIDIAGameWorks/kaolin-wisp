{
 "cells": [
  {
   "cell_type": "code",
   "execution_count": 41,
   "metadata": {},
   "outputs": [],
   "source": [
    "# repeat copy \n",
    "import os\n",
    "import shutil\n",
    "directory = '/ubc/cs/research/kmyi/svsamban/research/kaolin-wisp/data/heart2/val'\n",
    "src = '/ubc/cs/research/kmyi/svsamban/research/kaolin-wisp/data/heart2/train/r_0.png'\n",
    "for filename in sorted(os.listdir(directory)):\n",
    "    f = os.path.join(directory, filename)\n",
    "    if src != f:\n",
    "        shutil.copy(src, f)"
   ]
  },
  {
   "cell_type": "code",
   "execution_count": 18,
   "metadata": {},
   "outputs": [],
   "source": [
    "frame = {\n",
    "            \"file_path\": \"./train/\",\n",
    "            \"warp_id\": -1,\n",
    "            \"rotation\": 0.012566370614359171,\n",
    "            \"transform_matrix\": [\n",
    "                [\n",
    "                    -0.9999021887779236,\n",
    "                    0.004192245192825794,\n",
    "                    -0.013345719315111637,\n",
    "                    -0.05379832163453102\n",
    "                ],\n",
    "                [\n",
    "                    -0.013988681137561798,\n",
    "                    -0.2996590733528137,\n",
    "                    0.95394366979599,\n",
    "                    3.845470428466797\n",
    "                ],\n",
    "                [\n",
    "                    -4.656612873077393e-10,\n",
    "                    0.9540371894836426,\n",
    "                    0.29968830943107605,\n",
    "                    1.2080823183059692\n",
    "                ],\n",
    "                [\n",
    "                    0.0,\n",
    "                    0.0,\n",
    "                    0.0,\n",
    "                    1.0\n",
    "                ]\n",
    "            ]\n",
    "        }"
   ]
  },
  {
   "cell_type": "code",
   "execution_count": 51,
   "metadata": {},
   "outputs": [],
   "source": [
    "import json \n",
    "import os\n",
    "\n",
    "\n",
    "dataset = 'kacper'\n",
    "ver = 'train'\n",
    "# filename  = '/ubc/cs/research/kmyi/svsamban/research/kaolin-wisp/data/'+dataset+'/transforms_'+ver+'.json'\n",
    "# filename2 = '/ubc/cs/research/kmyi/svsamban/research/kaolin-wisp/data/'+dataset+'/transforms_'+ver+'2.json'\n",
    "filename  = '/ubc/cs/research/kmyi/svsamban/research/kaolin-wisp/data/heartsr/transforms_train.json'\n",
    "filename2 = '/ubc/cs/research/kmyi/svsamban/research/kaolin-wisp/data/heartsr/transforms_val2.json'\n",
    "with open(filename, 'r') as f:\n",
    "    data = json.load(f)\n",
    "    frames = []\n",
    "    frame = data['frames'][0]\n",
    "\n",
    "    for i in range(len(data['frames'])):\n",
    "        # x = frame.copy()\n",
    "        # x['file_path'] = data['frames'][i]['file_path'] #to keep og file path name\n",
    "        if i<len(data['frames']):\n",
    "            x = data['frames'][i].copy()\n",
    "            x['warp_id'] = i\n",
    "\n",
    "            frames.append(x)\n",
    "    \n",
    "    data['frames'] = frames\n",
    "\n",
    "\n",
    "# os.remove(filename)\n",
    "with open(filename2, 'w') as f:\n",
    "    json.dump(data, f, indent=4)"
   ]
  },
  {
   "cell_type": "code",
   "execution_count": 39,
   "metadata": {},
   "outputs": [
    {
     "data": {
      "image/png": "[encoded data removed]",
      "text/plain": [
       "<PIL.Image.Image image mode=RGB size=64x64>"
      ]
     },
     "metadata": {},
     "output_type": "display_data"
    }
   ],
   "source": [
    "# generate b&w mask\n",
    "import numpy as np \n",
    "from PIL import Image\n",
    " \n",
    "im = Image.open('/ubc/cs/research/kmyi/svsamban/research/kaolin-wisp/data/heart/train/000000.png')\n",
    "og = im.copy()\n",
    "# display(og)\n",
    "im = np.array(im)\n",
    "im = im/2+150\n",
    "if len(im.shape) == 2:\n",
    "    im = np.stack((im,im,im),axis=-1)\n",
    "im[:,:,0] = np.ones_like(im[:,:,0])\n",
    "# im[:,:,1] = im[:,:,0]+150/2\n",
    "# im[:,:,2] = im[:,:,0]/3\n",
    "# im[:,:,3] = np.ones_like(im[:,:,3])*255\n",
    "# imnp = im.copy()\n",
    "im = Image.fromarray(im.astype('uint8'), 'RGB')\n",
    "display(im)\n",
    "im.save('/ubc/cs/research/kmyi/svsamban/research/kaolin-wisp/data/heart2/train/r_0.png')\n"
   ]
  },
  {
   "cell_type": "code",
   "execution_count": 7,
   "metadata": {},
   "outputs": [],
   "source": [
    "import os\n",
    "from PIL import Image\n",
    "\n",
    "img = '/ubc/cs/research/kmyi/svsamban/research/kaolin-wisp/data/lego2/train/r_2.png'\n",
    "path = '/ubc/cs/research/kmyi/svsamban/research/kaolin-wisp/data/lego2/testfail'\n",
    "\n",
    "for root, dirs, files in os.walk(path, topdown=False):\n",
    "    for name in files:\n",
    "        # print(os.path.join(root, name))\n",
    "\n",
    "        im = Image.open(img)\n",
    "\n",
    "        fill_color = (255,255,255)   # your new background color\n",
    "\n",
    "        im = im.convert(\"RGBA\")   # it had mode P after DL it from OP\n",
    "        if im.mode in ('RGBA', 'LA'):\n",
    "            background = Image.new(im.mode[:-1], im.size, fill_color)\n",
    "            background.paste(im, im.split()[-1]) # omit transparency\n",
    "            im = background\n",
    "        # result = name.replace(\".png\", \".jpg\")\n",
    "\n",
    "        im.convert(\"RGB\").save(os.path.join(root, name))\n",
    "\n"
   ]
  }
 ],
 "metadata": {
  "kernelspec": {
   "display_name": "wisp",
   "language": "python",
   "name": "python3"
  },
  "language_info": {
   "codemirror_mode": {
    "name": "ipython",
    "version": 3
   },
   "file_extension": ".py",
   "mimetype": "text/x-python",
   "name": "python",
   "nbconvert_exporter": "python",
   "pygments_lexer": "ipython3",
   "version": "3.9.16"
  },
  "orig_nbformat": 4,
  "vscode": {
   "interpreter": {
    "hash": "782970bce81fe701fae56c9b1f7affcfafa73c98e35047d199393b79f70f5e2e"
   }
  }
 },
 "nbformat": 4,
 "nbformat_minor": 2
}
